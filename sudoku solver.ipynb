{
 "cells": [
  {
   "cell_type": "code",
   "execution_count": 1,
   "id": "56022d2e",
   "metadata": {},
   "outputs": [
    {
     "name": "stdout",
     "output_type": "stream",
     "text": [
      "pygame 2.1.2 (SDL 2.0.18, Python 3.7.4)\n",
      "Hello from the pygame community. https://www.pygame.org/contribute.html\n"
     ]
    },
    {
     "ename": "AttributeError",
     "evalue": "module 'solver' has no attribute 'Solve'",
     "output_type": "error",
     "traceback": [
      "\u001b[1;31m---------------------------------------------------------------------------\u001b[0m",
      "\u001b[1;31mAttributeError\u001b[0m                            Traceback (most recent call last)",
      "\u001b[1;32m~\\AppData\\Local\\Temp/ipykernel_21840/2628144030.py\u001b[0m in \u001b[0;36m<module>\u001b[1;34m\u001b[0m\n\u001b[0;32m    105\u001b[0m \u001b[1;33m\u001b[0m\u001b[0m\n\u001b[0;32m    106\u001b[0m \u001b[1;32mif\u001b[0m \u001b[0m__name__\u001b[0m \u001b[1;33m==\u001b[0m \u001b[1;34m'__main__'\u001b[0m\u001b[1;33m:\u001b[0m\u001b[1;33m\u001b[0m\u001b[1;33m\u001b[0m\u001b[0m\n\u001b[1;32m--> 107\u001b[1;33m     \u001b[0mmain\u001b[0m\u001b[1;33m(\u001b[0m\u001b[1;33m)\u001b[0m\u001b[1;33m\u001b[0m\u001b[1;33m\u001b[0m\u001b[0m\n\u001b[0m",
      "\u001b[1;32m~\\AppData\\Local\\Temp/ipykernel_21840/2628144030.py\u001b[0m in \u001b[0;36mmain\u001b[1;34m()\u001b[0m\n\u001b[0;32m     95\u001b[0m         \u001b[0mkeys\u001b[0m \u001b[1;33m=\u001b[0m \u001b[0mpygame\u001b[0m\u001b[1;33m.\u001b[0m\u001b[0mkey\u001b[0m\u001b[1;33m.\u001b[0m\u001b[0mget_pressed\u001b[0m\u001b[1;33m(\u001b[0m\u001b[1;33m)\u001b[0m\u001b[1;33m\u001b[0m\u001b[1;33m\u001b[0m\u001b[0m\n\u001b[0;32m     96\u001b[0m         \u001b[1;32mif\u001b[0m \u001b[0mkeys\u001b[0m\u001b[1;33m[\u001b[0m\u001b[0mpygame\u001b[0m\u001b[1;33m.\u001b[0m\u001b[0mK_SPACE\u001b[0m\u001b[1;33m]\u001b[0m\u001b[1;33m:\u001b[0m\u001b[1;33m\u001b[0m\u001b[1;33m\u001b[0m\u001b[0m\n\u001b[1;32m---> 97\u001b[1;33m             \u001b[0msolver\u001b[0m\u001b[1;33m.\u001b[0m\u001b[0mSolve\u001b[0m\u001b[1;33m(\u001b[0m\u001b[0mboard\u001b[0m\u001b[1;33m)\u001b[0m\u001b[1;33m\u001b[0m\u001b[1;33m\u001b[0m\u001b[0m\n\u001b[0m\u001b[0;32m     98\u001b[0m \u001b[1;33m\u001b[0m\u001b[0m\n\u001b[0;32m     99\u001b[0m         \u001b[0mboard\u001b[0m\u001b[1;33m.\u001b[0m\u001b[0mDraw\u001b[0m\u001b[1;33m(\u001b[0m\u001b[1;33m)\u001b[0m\u001b[1;33m\u001b[0m\u001b[1;33m\u001b[0m\u001b[0m\n",
      "\u001b[1;31mAttributeError\u001b[0m: module 'solver' has no attribute 'Solve'"
     ]
    }
   ],
   "source": [
    "import pygame\n",
    "import solver\n",
    "import copy\n",
    "\n",
    "pygame.init()\n",
    "\n",
    "WIN_WIDTH = 700\n",
    "\n",
    "SCALE = WIN_WIDTH // 9\n",
    "WIN_HEIGHT = WIN_WIDTH + SCALE//2\n",
    "\n",
    "WINDOW = pygame.display.set_mode((WIN_WIDTH, int(WIN_HEIGHT)))\n",
    "pygame.display.set_caption(\"Sudoku\")\n",
    "\n",
    "STAT_FONT = pygame.font.SysFont(\"Times\", int(SCALE//1.3))\n",
    "LABEL_FONT = pygame.font.SysFont(\"comicsans\", int(SCALE//2.8))\n",
    "\n",
    "# Color Pallet\n",
    "BLACK = [72, 72, 72]\n",
    "GREY = [200, 200, 200]\n",
    "TEXT = [160, 160, 160]\n",
    "ITEXT = [153, 102, 51]\n",
    "WHITE = [255, 255, 255]\n",
    "\n",
    "\n",
    "\n",
    "class Board:\n",
    "    def __init__(self):\n",
    "        self.board = []\n",
    "        self.initBoard = []\n",
    "\n",
    "    def Pick_Board(self):\n",
    "        self.initBoard = [[0, 4, 2, 6, 0, 0, 0, 0, 3],\n",
    "                      [0, 0, 0, 0, 0, 0, 7, 0, 0],\n",
    "                      [5, 3, 8, 0, 0, 1, 6, 0, 2],\n",
    "                      [0, 0, 5, 0, 0, 9, 0, 7, 0],\n",
    "                      [0, 0, 0, 8, 0, 6, 0, 0, 0],\n",
    "                      [0, 2, 0, 7, 0, 0, 1, 0, 0],\n",
    "                      [8, 0, 4, 1, 0, 0, 2, 3, 6],\n",
    "                      [0, 0, 1, 0, 0, 0, 0, 0, 0],\n",
    "                      [3, 0, 0, 0, 0, 2, 8, 9, 0]]\n",
    "\n",
    "        self.board = copy.deepcopy(self.initBoard)\n",
    "\n",
    "    def Get_Board(self):\n",
    "        return self.board\n",
    "\n",
    "    def Draw(self):\n",
    "        WINDOW.fill(WHITE)\n",
    "        for x in range(0, WIN_WIDTH, SCALE):\n",
    "            pygame.draw.line(WINDOW, GREY, (x, 0), (x, WIN_WIDTH), 4)\n",
    "            pygame.draw.line(WINDOW, GREY, (0, x), (WIN_WIDTH, x), 4)\n",
    "\n",
    "        for x in range(0, WIN_WIDTH + 1, WIN_WIDTH // 3 - 1):\n",
    "            pygame.draw.line(WINDOW, BLACK, (x, 0), (x, WIN_WIDTH), 8)\n",
    "            pygame.draw.line(WINDOW, BLACK, (0, x), (WIN_WIDTH, x), 8)\n",
    "\n",
    "        for row in range(len(self.board)):\n",
    "            for col in range(len(self.board[row])):\n",
    "                text = STAT_FONT.render(\"{}\".format(self.board[row][col] if self.board[row][col] > 0 else \"\"), 1, TEXT)\n",
    "                Wgap = (SCALE - text.get_width()) // 2\n",
    "                Hgap = (SCALE - text.get_height()) // 2\n",
    "                WINDOW.blit(text, (col * SCALE + Wgap + 2, row * SCALE + Hgap+3))\n",
    "\n",
    "        for row in range(len(self.initBoard)):\n",
    "            for col in range(len(self.initBoard[row])):\n",
    "                text = STAT_FONT.render(\"{}\".format(self.initBoard[row][col] if self.initBoard[row][col] > 0 else \"\"), 1, ITEXT)\n",
    "                Wgap = (SCALE - text.get_width()) // 2\n",
    "                Hgap = (SCALE - text.get_height()) // 2\n",
    "                WINDOW.blit(text, (col * SCALE + Wgap + 2, row * SCALE + Hgap+3))\n",
    "\n",
    "        text = LABEL_FONT.render(\"{}\".format(\"Press SPACE to solve automatically.\"), 1, BLACK)\n",
    "        WINDOW.blit(text, (int(WIN_WIDTH//2 - text.get_width()//2), int(WIN_HEIGHT-SCALE//2.7)))\n",
    "\n",
    "        pygame.display.update()\n",
    "\n",
    "        for event in pygame.event.get():\n",
    "            if event.type == pygame.QUIT:\n",
    "                pygame.quit()\n",
    "                quit()\n",
    "\n",
    "\n",
    "\n",
    "def main():\n",
    "    FPS = 30\n",
    "    Clock = pygame.time.Clock()\n",
    "    run = True\n",
    "\n",
    "    board = Board()\n",
    "    board.Pick_Board()\n",
    "\n",
    "    while run:\n",
    "        Clock.tick(FPS)\n",
    "\n",
    "        keys = pygame.key.get_pressed()\n",
    "        if keys[pygame.K_SPACE]:\n",
    "            solver.Solve(board)\n",
    "\n",
    "        board.Draw()\n",
    "\n",
    "        for event in pygame.event.get():\n",
    "            if event.type == pygame.QUIT:\n",
    "                run = False\n",
    "\n",
    "\n",
    "if __name__ == '__main__':\n",
    "    main()"
   ]
  },
  {
   "cell_type": "code",
   "execution_count": 2,
   "id": "320474f2",
   "metadata": {},
   "outputs": [
    {
     "name": "stdout",
     "output_type": "stream",
     "text": [
      "Collecting solver\n",
      "  Downloading solver-0.0.4.tar.gz (2.8 kB)\n",
      "  Preparing metadata (setup.py): started\n",
      "  Preparing metadata (setup.py): finished with status 'done'\n",
      "Using legacy 'setup.py install' for solver, since package 'wheel' is not installed.\n",
      "Installing collected packages: solver\n",
      "  Running setup.py install for solver: started\n",
      "  Running setup.py install for solver: finished with status 'done'\n",
      "Successfully installed solver-0.0.4\n",
      "Note: you may need to restart the kernel to use updated packages.\n"
     ]
    }
   ],
   "source": [
    "pip install solver"
   ]
  },
  {
   "cell_type": "code",
   "execution_count": null,
   "id": "10823944",
   "metadata": {},
   "outputs": [],
   "source": []
  }
 ],
 "metadata": {
  "kernelspec": {
   "display_name": "Python 3 (ipykernel)",
   "language": "python",
   "name": "python3"
  },
  "language_info": {
   "codemirror_mode": {
    "name": "ipython",
    "version": 3
   },
   "file_extension": ".py",
   "mimetype": "text/x-python",
   "name": "python",
   "nbconvert_exporter": "python",
   "pygments_lexer": "ipython3",
   "version": "3.7.4"
  }
 },
 "nbformat": 4,
 "nbformat_minor": 5
}
